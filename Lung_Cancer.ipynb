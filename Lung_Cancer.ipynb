{
  "cells": [
    {
      "cell_type": "code",
      "execution_count": 6,
      "metadata": {
        "id": "Pikz4BZYVLXK"
      },
      "outputs": [],
      "source": [
        "import pandas as pd\n",
        "import numpy as np\n",
        "\n",
        "dataset = pd.read_csv(\"survey lung cancer.csv\")\n",
        "\n",
        "x= dataset.iloc[:,:-1].values\n",
        "y= dataset.iloc[:,-1].values"
      ]
    },
    {
      "cell_type": "code",
      "execution_count": 7,
      "metadata": {
        "id": "Ui2rgRzDVyWo"
      },
      "outputs": [],
      "source": [
        "# print(x)\n",
        "# print(\"\\n\",y)"
      ]
    },
    {
      "cell_type": "code",
      "execution_count": 8,
      "metadata": {
        "id": "LBMEj4tLXe-u"
      },
      "outputs": [],
      "source": [
        "from sklearn.preprocessing import LabelEncoder\n",
        "le = LabelEncoder()\n",
        "\n",
        "# print(dataset['GENDER'])\n",
        "x[:,0] = np.array(le.fit_transform(x[:,0]))  #ENCODE GENDER FEATURE\n",
        "# print(x[:,0])\n",
        "\n",
        "y = np.array(le.fit_transform(y))   #ENCODING LUNG_CANCER FEATURE\n",
        "# print(y)"
      ]
    },
    {
      "cell_type": "code",
      "execution_count": 9,
      "metadata": {},
      "outputs": [
        {
          "name": "stdout",
          "output_type": "stream",
          "text": [
            "GENDER\n",
            "M    162\n",
            "F    147\n",
            "dtype: int64\n"
          ]
        },
        {
          "data": {
            "image/png": "[encoded data removed]",
            "text/plain": [
              "<Figure size 432x432 with 1 Axes>"
            ]
          },
          "metadata": {},
          "output_type": "display_data"
        }
      ],
      "source": [
        "import matplotlib.pyplot as plt\n",
        "\n",
        "\n",
        "g = dataset.value_counts(\"GENDER\")\n",
        "print(g)\n",
        "\n",
        "plt.figure(figsize=(6,6))\n",
        "plt.pie(g, labels=['Male','Female'], autopct=\"%.2f%%\", textprops={\"fontsize\":15, \"color\":\"w\"}, explode=[0, 0.1], shadow=True, startangle=172)\n",
        "plt.legend()\n",
        "plt.show()"
      ]
    },
    {
      "cell_type": "code",
      "execution_count": 10,
      "metadata": {
        "id": "V5VrVEQuZBzN"
      },
      "outputs": [],
      "source": [
        "from sklearn.model_selection import train_test_split\n",
        "x_train, x_test, y_train, y_test = train_test_split(x, y, test_size = 0.2, random_state = 1)"
      ]
    },
    {
      "cell_type": "code",
      "execution_count": 11,
      "metadata": {
        "id": "YT6ipm3rZIKs"
      },
      "outputs": [],
      "source": [
        "# print(x_train,x_test,y_train,y_test)"
      ]
    },
    {
      "cell_type": "code",
      "execution_count": 12,
      "metadata": {
        "colab": {
          "base_uri": "https://localhost:8080/"
        },
        "id": "eEBkOPySZl9d",
        "outputId": "c14441fe-0367-443e-f6c7-3e6fd5ba321e"
      },
      "outputs": [
        {
          "name": "stdout",
          "output_type": "stream",
          "text": [
            "0.8709677419354839\n"
          ]
        }
      ],
      "source": [
        "from sklearn.tree import DecisionTreeClassifier\n",
        "from sklearn.naive_bayes import GaussianNB\n",
        "from sklearn.ensemble import RandomForestClassifier\n",
        "from sklearn.ensemble import GradientBoostingClassifier\n",
        "from sklearn.svm import SVC\n",
        "\n",
        "classifiersvm = SVC(kernel = 'linear', C= 0.25, gamma= 0.1, random_state = 0)\n",
        "classifiersvm.fit(x_train, y_train)\n",
        "x_predictsvm = np.array(x_test[:,:])\n",
        "accuracysvm = classifiersvm.score(x_test,y_test)\n",
        "\n",
        "# classifierrf = RandomForestClassifier(random_state=1)\n",
        "# classifierrf.fit(x_train, y_train)\n",
        "# x_predictrf = np.array(x_test[:,:])\n",
        "# accuracyrf = classifierrf.score(x_test,y_test)\n",
        "\n",
        "# classifiergbm = GradientBoostingClassifier(n_estimators=10)\n",
        "# classifiergbm.fit(x_train, y_train)\n",
        "# x_predictgbm= np.array(x_test[:,:])\n",
        "# accuracygbm = classifiergbm.score(x_test,y_test)\n",
        "\n",
        "# classifierNB = GaussianNB()\n",
        "# classifierNB.fit(x_train, y_train)\n",
        "# x_predictNB = np.array(x_test[:,:])\n",
        "# accuracyNB = classifierNB.score(x_test,y_test)\n",
        "\n",
        "# classifier = DecisionTreeClassifier(criterion = 'entropy', random_state = 0)\n",
        "# classifier.fit(x_train, y_train)\n",
        "# x_predict = np.array(x_test[:,:])\n",
        "# accuracy = classifier.score(x_test,y_test)\n",
        "\n",
        "\n",
        "# print(accuracy)\n",
        "# print(accuracyNB)\n",
        "# print(accuracyrf)\n",
        "# print(accuracygbm)\n",
        "print(accuracysvm)"
      ]
    },
    {
      "cell_type": "code",
      "execution_count": 13,
      "metadata": {
        "id": "zqD1o4LJkSLQ"
      },
      "outputs": [],
      "source": [
        "import pickle\n",
        "pickle.dump(classifiersvm, open('model.pkl','wb'))"
      ]
    }
  ],
  "metadata": {
    "colab": {
      "collapsed_sections": [],
      "provenance": []
    },
    "kernelspec": {
      "display_name": "Python 3.8.8 ('base')",
      "language": "python",
      "name": "python3"
    },
    "language_info": {
      "codemirror_mode": {
        "name": "ipython",
        "version": 3
      },
      "file_extension": ".py",
      "mimetype": "text/x-python",
      "name": "python",
      "nbconvert_exporter": "python",
      "pygments_lexer": "ipython3",
      "version": "3.8.8"
    },
    "vscode": {
      "interpreter": {
        "hash": "20a9e06a1eee47c4abbed4ec8225ad91d78d9800d202b71b6b0a6e47016c6abd"
      }
    }
  },
  "nbformat": 4,
  "nbformat_minor": 0
}
